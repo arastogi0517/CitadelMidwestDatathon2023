{
 "cells": [
  {
   "cell_type": "code",
   "execution_count": 22,
   "id": "aa5a85d9",
   "metadata": {},
   "outputs": [],
   "source": [
    "import matplotlib.pyplot as plt\n",
    "import numpy as np\n",
    "import pandas as pd\n",
    "from tqdm import tqdm"
   ]
  },
  {
   "cell_type": "markdown",
   "id": "4295e672",
   "metadata": {},
   "source": [
    "Goals for first analysis\n",
    "- important features (location type, species name, etc)\n",
    "- see how many total species there are \n",
    "- analysis per city - see if there are any trends we can see\n",
    "    - eg trees per neighborhood mean and variance\n",
    "    - same but for tree types \n",
    "- ~check how many neighborhoods there are, then neighborhoods per city~ - most cities do not have nbhd information\n",
    "- plot histogram of tree type counts\n",
    "- cluster cities based on counts of tree types?\n",
    "Cities/metropolitan areas:\n",
    "- 63 in total\n",
    "- 4454 total tree types\n",
    "- 148 total cities/separate by metropolitan area instead\n",
    "- ~4.9m out of 5.6m records have city, same for metro\n",
    "- check with metropolitan area"
   ]
  },
  {
   "cell_type": "code",
   "execution_count": 17,
   "id": "cc4d7afc",
   "metadata": {},
   "outputs": [
    {
     "name": "stderr",
     "output_type": "stream",
     "text": [
      "5660269it [00:14, 398148.00it/s]\n"
     ]
    }
   ],
   "source": [
    "cnt = 0\n",
    "keys = []\n",
    "d = None\n",
    "with open(\"greenspace_data/5_million_trees_us_cities.csv\", \"r\") as file:\n",
    "    for line in tqdm(file):\n",
    "        if cnt == 0:\n",
    "            keys = line.split(',')\n",
    "            d = {key:set() for key in [\"location_name\", \n",
    "                                       \"greater_metro\", \n",
    "                                       \"location_type\",\n",
    "                                       \"common_name\",\n",
    "                                       \"neighborhood\",\n",
    "                                       \"city\"]}\n",
    "        else:\n",
    "            info = line.split(',')\n",
    "            if len(info) == len(keys):\n",
    "                for key in [\"location_name\", \"greater_metro\", \"location_type\", \"common_name\", \"neighborhood\", \"city\"]:\n",
    "                    d[key].add(info[keys.index(key)])\n",
    "                    if len(d[key]) == 0:\n",
    "                        assert False\n",
    "        cnt += 1"
   ]
  },
  {
   "cell_type": "code",
   "execution_count": 32,
   "id": "83b4811a",
   "metadata": {},
   "outputs": [
    {
     "name": "stderr",
     "output_type": "stream",
     "text": [
      "5660269it [00:08, 694158.57it/s]\n"
     ]
    }
   ],
   "source": [
    "nb_p_city = {me:{} for me in d[\"city\"]}\n",
    "cnt = 0\n",
    "city_cnt = 0\n",
    "with open(\"greenspace_data/5_million_trees_us_cities.csv\", \"r\") as file:\n",
    "    for line in tqdm(file):\n",
    "        if cnt != 0:\n",
    "            info = line.split(',')\n",
    "            if len(info) == len(keys):\n",
    "                city = info[keys.index('city')]\n",
    "                nb = info[keys.index('neighborhood')]\n",
    "                if nb not in nb_p_city[city]:\n",
    "                    nb_p_city[city][nb]=1\n",
    "                else:\n",
    "                    nb_p_city[city][nb] += 1\n",
    "                if city != '':\n",
    "                    city_cnt += 1\n",
    "        cnt += 1"
   ]
  },
  {
   "cell_type": "code",
   "execution_count": 41,
   "id": "8be9c21d",
   "metadata": {},
   "outputs": [
    {
     "name": "stderr",
     "output_type": "stream",
     "text": [
      "5660269it [00:07, 736553.65it/s]\n"
     ]
    }
   ],
   "source": [
    "cnt = 0\n",
    "tree_cnts_per_metro = {me:{} for me in d['greater_metro']}\n",
    "with open(\"greenspace_data/5_million_trees_us_cities.csv\", \"r\") as file:\n",
    "    for line in tqdm(file):\n",
    "        if cnt != 0:\n",
    "            info = line.split(',')\n",
    "            if len(info) == len(keys):\n",
    "                metro = info[keys.index('greater_metro')]\n",
    "                if metro != '':\n",
    "                    common_name = info[keys.index('common_name')]\n",
    "                    if common_name not in tree_cnts_per_metro[metro]:\n",
    "                        tree_cnts_per_metro[metro][common_name]=1\n",
    "                    else:\n",
    "                        tree_cnts_per_metro[metro][common_name]+=1\n",
    "        cnt += 1"
   ]
  },
  {
   "cell_type": "markdown",
   "id": "f4f60381",
   "metadata": {},
   "source": [
    "clustering analysis\n",
    "- start by looking at 100 or so most common trees"
   ]
  },
  {
   "cell_type": "code",
   "execution_count": 61,
   "id": "6172c045",
   "metadata": {},
   "outputs": [
    {
     "name": "stderr",
     "output_type": "stream",
     "text": [
      "5660269it [00:06, 896446.52it/s]\n"
     ]
    }
   ],
   "source": [
    "cnt = 0\n",
    "most_common_trees = {me:0 for me in d['common_name']}\n",
    "with open(\"greenspace_data/5_million_trees_us_cities.csv\", \"r\") as file:\n",
    "    for line in tqdm(file):\n",
    "        if cnt != 0:\n",
    "            info = line.split(',')\n",
    "            if len(info) == len(keys):\n",
    "                common_name = info[keys.index('common_name')]\n",
    "                #print(common_name)\n",
    "                if common_name != '':\n",
    "                    most_common_trees[common_name] +=1\n",
    "                #print(most_common_trees[common_name])\n",
    "        cnt += 1"
   ]
  },
  {
   "cell_type": "code",
   "execution_count": 69,
   "id": "8b382b67",
   "metadata": {},
   "outputs": [
    {
     "data": {
      "text/plain": [
       "Text(0, 0.5, '# of species')"
      ]
     },
     "execution_count": 69,
     "metadata": {},
     "output_type": "execute_result"
    },
    {
     "data": {
      "image/png": "[encoded data removed]",
      "text/plain": [
       "<Figure size 432x288 with 1 Axes>"
      ]
     },
     "metadata": {
      "needs_background": "light"
     },
     "output_type": "display_data"
    }
   ],
   "source": [
    "\n",
    "counts = [np.log(most_common_trees[k]) if most_common_trees[k] != 0 else 0 for k in most_common_trees]\n",
    "plt.hist(counts, bins=20)\n",
    "plt.xlabel(\"Log counts\")\n",
    "plt.ylabel(\"# of species\")"
   ]
  },
  {
   "cell_type": "code",
   "execution_count": 72,
   "id": "192ac807",
   "metadata": {},
   "outputs": [],
   "source": [
    "counts_w_names = [(most_common_trees[k], k) for k in most_common_trees]\n",
    "total_count = sum([c[0] for c in counts_w_names])"
   ]
  },
  {
   "cell_type": "code",
   "execution_count": 82,
   "id": "945f2ac5",
   "metadata": {},
   "outputs": [
    {
     "data": {
      "text/plain": [
       "Text(0, 0.5, 'Percentage of total number of trees comprised by top n')"
      ]
     },
     "execution_count": 82,
     "metadata": {},
     "output_type": "execute_result"
    },
    {
     "data": {
      "image/png": "[encoded data removed]",
      "text/plain": [
       "<Figure size 432x288 with 1 Axes>"
      ]
     },
     "metadata": {
      "needs_background": "light"
     },
     "output_type": "display_data"
    }
   ],
   "source": [
    "rev_sorted_cnts = sorted([most_common_trees[k] for k in most_common_trees])[::-1]\n",
    "for i in range(1, len(rev_sorted_cnts)):\n",
    "    rev_sorted_cnts[i] += rev_sorted_cnts[i-1]\n",
    "for i in range(len(rev_sorted_cnts)):\n",
    "    rev_sorted_cnts[i] /= total_count\n",
    "plt.plot(rev_sorted_cnts)\n",
    "plt.xlabel(\"# of Trees\")\n",
    "plt.ylabel(\"Percentage of total number of trees comprised by top n\")"
   ]
  },
  {
   "cell_type": "code",
   "execution_count": 94,
   "id": "89315148",
   "metadata": {},
   "outputs": [
    {
     "name": "stderr",
     "output_type": "stream",
     "text": [
      "5660269it [00:18, 304006.59it/s]\n"
     ]
    }
   ],
   "source": [
    "# Take top 1000 names\n",
    "cnt = 0\n",
    "sorted_cnts_names = list(map(lambda x: x[1], sorted(counts_w_names)[::-1][:1000]))\n",
    "met_cnts_names = {me:{n: 0 for n in sorted_cnts_names} for me in d[\"greater_metro\"]}\n",
    "with open(\"greenspace_data/5_million_trees_us_cities.csv\", \"r\") as file:\n",
    "    for line in tqdm(file):\n",
    "        if cnt != 0:\n",
    "            info = line.split(',')\n",
    "            if len(info) == len(keys):\n",
    "                metro = info[keys.index('greater_metro')]\n",
    "                if metro != '':\n",
    "                    common_name = info[keys.index('common_name')]\n",
    "                    if common_name in sorted_cnts_names:\n",
    "                        if common_name not in met_cnts_names[metro]:\n",
    "                            met_cnts_names[metro][common_name]=1\n",
    "                        else:\n",
    "                            met_cnts_names[metro][common_name]+=1\n",
    "        cnt += 1"
   ]
  },
  {
   "cell_type": "code",
   "execution_count": null,
   "id": "9ad3840a",
   "metadata": {},
   "outputs": [],
   "source": [
    "# filter with vacant later "
   ]
  },
  {
   "cell_type": "code",
   "execution_count": 115,
   "id": "8bd433db",
   "metadata": {},
   "outputs": [],
   "source": [
    "pca_data = np.zeros((63, 1000))\n",
    "bad_idxs = []\n",
    "for i in range(63):\n",
    "    metro_name = list(d[\"greater_metro\"])[i]\n",
    "    for j in range(1000):\n",
    "        pca_data[i][j] = met_cnts_names[metro_name][sorted_cnts_names[j]]\n",
    "    if (sum(pca_data[i]) == 0):\n",
    "        bad_idxs.append(i)\n",
    "idxs = [i for i in range(63) if i not in bad_idxs]\n",
    "pca_data = pca_data[idxs]\n",
    "for i in range(len(pca_data)):\n",
    "    pca_data[i] /= sum(pca_data[i])"
   ]
  },
  {
   "cell_type": "code",
   "execution_count": 120,
   "id": "aabe1bdf",
   "metadata": {},
   "outputs": [],
   "source": [
    "from sklearn.decomposition import PCA\n",
    "from sklearn.preprocessing import StandardScaler"
   ]
  },
  {
   "cell_type": "code",
   "execution_count": 123,
   "id": "50e0d808",
   "metadata": {},
   "outputs": [
    {
     "data": {
      "text/plain": [
       "PCA(n_components=20)"
      ]
     },
     "execution_count": 123,
     "metadata": {},
     "output_type": "execute_result"
    }
   ],
   "source": [
    "scaler = StandardScaler()\n",
    "pca_standard = scaler.fit_transform(pca_data)\n",
    "pca = PCA(n_components=20)\n",
    "pca.fit(pca_standard)"
   ]
  },
  {
   "cell_type": "code",
   "execution_count": 126,
   "id": "f2c27b2b",
   "metadata": {},
   "outputs": [
    {
     "data": {
      "text/plain": [
       "Text(0, 0.5, 'Cumulative fraction of explained variance')"
      ]
     },
     "execution_count": 126,
     "metadata": {},
     "output_type": "execute_result"
    },
    {
     "data": {
      "image/png": "[encoded data removed]",
      "text/plain": [
       "<Figure size 432x288 with 1 Axes>"
      ]
     },
     "metadata": {
      "needs_background": "light"
     },
     "output_type": "display_data"
    }
   ],
   "source": [
    "plt.plot(np.cumsum(pca.explained_variance_ratio_))\n",
    "plt.xticks(np.arange(20))\n",
    "plt.xlabel(\"Component index\")\n",
    "plt.ylabel(\"Cumulative fraction of explained variance\")"
   ]
  },
  {
   "cell_type": "code",
   "execution_count": null,
   "id": "3c6e3659",
   "metadata": {},
   "outputs": [],
   "source": [
    "# perform k means on 20 components, then visualize in 2 components space\n",
    "from sklearn.cluster import KMeans\n",
    "wcss = []\n",
    "for i in range(1, 15):\n",
    "    kmeans = KMeans(n_clusters = i, init = 'k-means++')\n",
    "    kmeans.fit(pca_standard)"
   ]
  }
 ],
 "metadata": {
  "kernelspec": {
   "display_name": "Python 3 (ipykernel)",
   "language": "python",
   "name": "python3"
  },
  "language_info": {
   "codemirror_mode": {
    "name": "ipython",
    "version": 3
   },
   "file_extension": ".py",
   "mimetype": "text/x-python",
   "name": "python",
   "nbconvert_exporter": "python",
   "pygments_lexer": "ipython3",
   "version": "3.9.6"
  }
 },
 "nbformat": 4,
 "nbformat_minor": 5
}
